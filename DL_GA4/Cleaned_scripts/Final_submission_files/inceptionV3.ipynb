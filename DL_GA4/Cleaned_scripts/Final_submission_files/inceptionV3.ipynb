{
  "nbformat": 4,
  "nbformat_minor": 0,
  "metadata": {
    "colab": {
      "name": "inceptionV3.ipynb",
      "provenance": [],
      "collapsed_sections": []
    },
    "kernelspec": {
      "display_name": "Python 3",
      "language": "python",
      "name": "python3"
    },
    "language_info": {
      "codemirror_mode": {
        "name": "ipython",
        "version": 3
      },
      "file_extension": ".py",
      "mimetype": "text/x-python",
      "name": "python",
      "nbconvert_exporter": "python",
      "pygments_lexer": "ipython3",
      "version": "3.8.3"
    },
    "accelerator": "GPU"
  },
  "cells": [
    {
      "cell_type": "code",
      "metadata": {
        "id": "_hhT_p51G71i"
      },
      "source": [
        "#imports and Drive mounting\n",
        "try:\n",
        "  # %tensorflow_version only exists in Colab.\n",
        "  %tensorflow_version 2.x\n",
        "except Exception:\n",
        "  pass\n",
        "\n",
        "# TensorFlow and tf.keras\n",
        "import tensorflow as tf\n",
        "from tensorflow import keras\n",
        "\n",
        "\n",
        "\n",
        "# Helper libraries\n",
        "import numpy as np\n",
        "import matplotlib.pyplot as plt\n",
        "import sklearn as sk\n",
        "import pandas as pd\n",
        "import os,shutil\n",
        "\n",
        "\n",
        "seed = 2020\n",
        "np.random.seed(seed)  \n",
        "\n",
        "from sklearn.model_selection import train_test_split\n",
        "from keras.preprocessing.image import ImageDataGenerator, array_to_img, img_to_array, load_img\n",
        "from tensorflow.keras.callbacks import EarlyStopping\n",
        "import datetime, os\n",
        "from tensorflow.keras.models import Sequential\n",
        "from tensorflow.keras.layers import Dense, Dropout, Flatten, BatchNormalization, Activation\n",
        "from tensorflow.keras.layers import Conv2D, MaxPooling2D, GlobalMaxPooling2D\n",
        "from tensorflow.keras.constraints import max_norm\n",
        "from tensorflow.keras.optimizers import Adam, SGD\n",
        "from tensorflow.keras.callbacks import EarlyStopping, ModelCheckpoint\n",
        "from tensorflow.keras.models import load_model\n",
        "from keras.models import Sequential,Model,load_model\n",
        "from keras.applications.resnet50 import preprocess_input\n",
        "from keras.applications.inception_v3 import preprocess_input\n",
        "from keras.applications.vgg16 import preprocess_input"
      ],
      "execution_count": 1,
      "outputs": []
    },
    {
      "cell_type": "code",
      "metadata": {
        "id": "wQExZiQREomo"
      },
      "source": [
        "def plot_history(history):\n",
        "  plt.figure(figsize = (12,4))\n",
        "  plt.subplot(1,2,1)\n",
        "  plt.xlabel('Epoch')\n",
        "  plt.ylabel('Accuracy')\n",
        "  plt.plot(history.epoch, np.array(history.history['accuracy']),'g-',\n",
        "           label='Train accuracy')\n",
        "  plt.plot(history.epoch, np.array(history.history['val_accuracy']),'r-',\n",
        "           label = 'Validation accuracy')\n",
        "  plt.legend()\n",
        "\n",
        "  plt.subplot(1,2,2)\n",
        "  plt.xlabel('Epoch')\n",
        "  plt.ylabel('Loss')\n",
        "  plt.plot(history.epoch, np.array(history.history['loss']),'g-',\n",
        "           label='Train loss')\n",
        "  plt.plot(history.epoch, np.array(history.history['val_loss']),'r-',\n",
        "           label = 'Validation loss')\n",
        "  plt.legend()\n",
        "  #plt.show()\n",
        "\n"
      ],
      "execution_count": 2,
      "outputs": []
    },
    {
      "cell_type": "code",
      "metadata": {
        "colab": {
          "base_uri": "https://localhost:8080/"
        },
        "id": "WF5ewOYyG90m",
        "outputId": "98220bd1-e3f1-48e8-cb07-86798d9d4a2d"
      },
      "source": [
        "from google.colab import drive\n",
        "drive.mount('/content/drive')"
      ],
      "execution_count": 3,
      "outputs": [
        {
          "output_type": "stream",
          "text": [
            "Mounted at /content/drive\n"
          ],
          "name": "stdout"
        }
      ]
    },
    {
      "cell_type": "code",
      "metadata": {
        "id": "m8dhAU338PaM"
      },
      "source": [
        "meta= pd.read_csv(r\"/content/drive/MyDrive/musicnet_metadata.csv\")"
      ],
      "execution_count": 4,
      "outputs": []
    },
    {
      "cell_type": "code",
      "metadata": {
        "id": "-AiMwUKcCyNO"
      },
      "source": [
        "composers=meta[\"composer\"].unique()"
      ],
      "execution_count": 5,
      "outputs": []
    },
    {
      "cell_type": "code",
      "metadata": {
        "id": "RLNIYBfWJmdx"
      },
      "source": [
        "path=os.getcwd()\n",
        "val_path = \"/content/drive/MyDrive/splitted/val\"\n",
        "train_path = \"/content/drive/MyDrive/splitted/train\""
      ],
      "execution_count": 6,
      "outputs": []
    },
    {
      "cell_type": "code",
      "metadata": {
        "colab": {
          "base_uri": "https://localhost:8080/"
        },
        "id": "lkGaJPm1KDny",
        "outputId": "eb7b51ad-b596-4742-dd81-9bcb138a6368"
      },
      "source": [
        "image_generator =  ImageDataGenerator(preprocessing_function= tf.keras.applications.inception_v3.preprocess_input) \n",
        "train_dataset = image_generator.flow_from_directory(batch_size= 25, directory=train_path, classes=list(composers),shuffle=True)\n",
        "validation_dataset = image_generator.flow_from_directory(batch_size=1,directory=val_path, classes=list(composers),shuffle = False)\n",
        "                                          \n",
        "                                                 "
      ],
      "execution_count": 7,
      "outputs": [
        {
          "output_type": "stream",
          "text": [
            "Found 3398 images belonging to 10 classes.\n",
            "Found 424 images belonging to 10 classes.\n"
          ],
          "name": "stdout"
        }
      ]
    },
    {
      "cell_type": "code",
      "metadata": {
        "colab": {
          "base_uri": "https://localhost:8080/"
        },
        "id": "IgWayHGHKJ5O",
        "outputId": "74231c1b-db41-49a6-8010-9a99cbbfd737"
      },
      "source": [
        "num_classes = 10\n",
        "\n",
        "input_shape=(256, 256, 3)\n",
        "validation_dataset.next()[0].shape"
      ],
      "execution_count": 8,
      "outputs": [
        {
          "output_type": "execute_result",
          "data": {
            "text/plain": [
              "(1, 256, 256, 3)"
            ]
          },
          "metadata": {
            "tags": []
          },
          "execution_count": 8
        }
      ]
    },
    {
      "cell_type": "code",
      "metadata": {
        "id": "P-NCW8p5LiGe",
        "colab": {
          "base_uri": "https://localhost:8080/"
        },
        "outputId": "7357b42d-fddc-40f6-9dab-d50774039d51"
      },
      "source": [
        "\n",
        "base_model = tf.keras.applications.InceptionV3(include_top=False, weights=\"imagenet\", input_shape=(256,256,3))\n"
      ],
      "execution_count": 9,
      "outputs": [
        {
          "output_type": "stream",
          "text": [
            "Downloading data from https://storage.googleapis.com/tensorflow/keras-applications/inception_v3/inception_v3_weights_tf_dim_ordering_tf_kernels_notop.h5\n",
            "87916544/87910968 [==============================] - 1s 0us/step\n"
          ],
          "name": "stdout"
        }
      ]
    },
    {
      "cell_type": "code",
      "metadata": {
        "id": "fX-VM5OTOuQa"
      },
      "source": [
        "dropout1 = Dropout(0.1)\n",
        "dropout2 = Dropout(0.3)\n",
        "\n",
        "flattened = keras.layers.Flatten()(base_model.output)\n",
        "\n",
        "drop1 = dropout1(flattened)\n",
        "flattened = keras.layers.Dense(512, activation='relu')(drop1)\n",
        "\n",
        "drop2 = dropout2(flattened)\n",
        "flattened = keras.layers.Dense(256, activation='relu')(drop2)\n",
        "\n",
        "predictions = Dense(num_classes, activation = 'softmax')(flattened)\n",
        "model = Model(inputs = base_model.input, outputs = predictions)"
      ],
      "execution_count": 10,
      "outputs": []
    },
    {
      "cell_type": "code",
      "metadata": {
        "id": "EtWAqnOKAvKx"
      },
      "source": [
        "\n",
        "from tensorflow.keras.callbacks import EarlyStopping, ModelCheckpoint\n",
        "def scheduler(epoch, lr):\n",
        "  if epoch < 10:\n",
        "    return lr\n",
        "  else:\n",
        "    return lr * tf.math.exp(-0.1)\n",
        "lr_callback = tf.keras.callbacks.LearningRateScheduler(scheduler)"
      ],
      "execution_count": 11,
      "outputs": []
    },
    {
      "cell_type": "code",
      "metadata": {
        "id": "nbmPNDN-PE1w"
      },
      "source": [
        "\n",
        "\n",
        "adam = Adam(lr=0.0001)\n",
        "model.compile(optimizer = adam, loss = 'categorical_crossentropy', metrics = ['accuracy'])\n",
        "model.summary()\n",
        "\n",
        "\n"
      ],
      "execution_count": null,
      "outputs": []
    },
    {
      "cell_type": "code",
      "metadata": {
        "id": "7JoaeWBzD1la"
      },
      "source": [
        "epochs = 40\n",
        "stopping_callback = tf.keras.callbacks.EarlyStopping(monitor='val_accuracy', patience=10,min_delta=0.0001)"
      ],
      "execution_count": 14,
      "outputs": []
    },
    {
      "cell_type": "code",
      "metadata": {
        "id": "usAWO-nsaXm5"
      },
      "source": [
        "fft3 = model.fit(train_dataset,\n",
        "    validation_data = validation_dataset,  \n",
        "    epochs = epochs, workers = 10, \n",
        "    callbacks =[lr_callback, stopping_callback], shuffle=True)"
      ],
      "execution_count": null,
      "outputs": []
    },
    {
      "cell_type": "code",
      "metadata": {
        "id": "iBLj6xK_WImc"
      },
      "source": [
        "print(\"Train loss\", fft3.history[\"loss\"][-1])\n",
        "print(\"Train accuracy\",  fft3.history[\"accuracy\"][-1])\n",
        "\n",
        "print(\"Val loss\", fft3.history[\"val_loss\"][-1])\n",
        "print(\"Val accuracy\",  fft3.history[\"val_accuracy\"][-1])"
      ],
      "execution_count": null,
      "outputs": []
    },
    {
      "cell_type": "code",
      "metadata": {
        "id": "nj96tZVnvNHp"
      },
      "source": [
        "plot_history(fft3)"
      ],
      "execution_count": null,
      "outputs": []
    },
    {
      "cell_type": "code",
      "metadata": {
        "id": "aomEDy8AbBdK"
      },
      "source": [
        "Y_pred = model.predict(validation_dataset)\n",
        "y_pred = np.argmax(Y_pred, axis=1)\n",
        "y_pred"
      ],
      "execution_count": null,
      "outputs": []
    },
    {
      "cell_type": "code",
      "metadata": {
        "id": "0aaBH6sFbocH"
      },
      "source": [
        "y_true = validation_dataset.classes\n",
        "y_true"
      ],
      "execution_count": null,
      "outputs": []
    },
    {
      "cell_type": "code",
      "metadata": {
        "id": "Lbk9-zokZsz8"
      },
      "source": [
        "from sklearn.metrics import confusion_matrix\n",
        "import itertools\n",
        "\n",
        "def plot_confusion_matrix(true_labels, predictions, \n",
        "                          classes =[], \n",
        "                          normalize=False,\n",
        "                          title='Confusion matrix',\n",
        "                          cmap=plt.cm.Blues):\n",
        "    \"\"\"\n",
        "    This function prints and plots the confusion matrix.\n",
        "    Normalization can be applied by setting `normalize=True`.\n",
        "    This code is adapted from \n",
        "    https://scikit-learn.org/stable/auto_examples/model_selection/plot_confusion_matrix.html\n",
        "    \"\"\"\n",
        "    cm = confusion_matrix(true_labels, predictions, classes)\n",
        "    if normalize:\n",
        "        cm = cm.astype('float') / cm.sum(axis=1)[:, np.newaxis]\n",
        "        print(\"Normalized confusion matrix\")\n",
        "    else:\n",
        "        print('Confusion matrix, without normalization')\n",
        "\n",
        "    #print(cm)\n",
        "    \n",
        "    #num_classes = 10\n",
        "    if len(classes) == 0:\n",
        "        num_classes = max(len(np.unique(true_labels)),len(np.unique(predictions)))\n",
        "        classes = range(num_classes)\n",
        "    plt.figure(figsize = (6,6))\n",
        "    plt.imshow(cm, interpolation='nearest', cmap=cmap)\n",
        "    plt.title(title)\n",
        "    plt.colorbar()\n",
        "    tick_marks = np.arange(len(classes))\n",
        "    plt.xticks(tick_marks, class_names_val, rotation=45)\n",
        "    plt.yticks(tick_marks, class_names_val)\n",
        "\n",
        "    fmt = '.2f' if normalize else 'd'\n",
        "    thresh = cm.max() / 2.\n",
        "    for i, j in itertools.product(range(cm.shape[0]), range(cm.shape[1])):\n",
        "        plt.text(j, i, format(cm[i, j], fmt),\n",
        "                 horizontalalignment=\"center\",\n",
        "                 color=\"white\" if cm[i, j] > thresh else \"black\")\n",
        "\n",
        "    plt.ylabel('True label')\n",
        "    plt.xlabel('Predicted label')\n",
        "    plt.tight_layout()\n",
        "    plt.show()\n",
        "class_names_val = ['Schubert','Mozart','Dvorak','Cambini','Haydn','Brahms','Faure', 'Ravel','Bach','Beethoven']\n"
      ],
      "execution_count": null,
      "outputs": []
    },
    {
      "cell_type": "code",
      "metadata": {
        "colab": {
          "base_uri": "https://localhost:8080/",
          "height": 435
        },
        "id": "lwhtHG9DZx7T",
        "outputId": "2b1b2f36-8793-4777-af0c-a4b6e0d9a1a7"
      },
      "source": [
        "plot_confusion_matrix(y_true, y_pred, classes = [0,1,2,3,4,5,6,7,8,9])"
      ],
      "execution_count": null,
      "outputs": [
        {
          "output_type": "stream",
          "text": [
            "Confusion matrix, without normalization\n"
          ],
          "name": "stdout"
        },
        {
          "output_type": "display_data",
          "data": {
            "image/png": "[encoded data removed]",
            "text/plain": [
              "<Figure size 432x432 with 2 Axes>"
            ]
          },
          "metadata": {
            "tags": [],
            "needs_background": "light"
          }
        }
      ]
    },
    {
      "cell_type": "code",
      "metadata": {
        "id": "5A4C9bea_KY5"
      },
      "source": [
        "model.save(\"/content/drive/MyDrive/inception_v3_model3_fft.h5\")"
      ],
      "execution_count": null,
      "outputs": []
    }
  ]
}